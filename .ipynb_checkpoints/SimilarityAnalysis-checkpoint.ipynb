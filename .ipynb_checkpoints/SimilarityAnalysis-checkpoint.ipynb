{
 "cells": [
  {
   "cell_type": "code",
   "execution_count": 5,
   "metadata": {
    "scrolled": true
   },
   "outputs": [
    {
     "name": "stderr",
     "output_type": "stream",
     "text": [
      "[nltk_data] Downloading package punkt to\n",
      "[nltk_data]     C:\\Users\\david\\AppData\\Roaming\\nltk_data...\n",
      "[nltk_data]   Package punkt is already up-to-date!\n"
     ]
    },
    {
     "name": "stdout",
     "output_type": "stream",
     "text": [
      "14951 unique Tweets loaded\n",
      "\n"
     ]
    },
    {
     "name": "stderr",
     "output_type": "stream",
     "text": [
      "C:\\Users\\david\\Anaconda3\\lib\\site-packages\\ipykernel_launcher.py:63: FutureWarning: Series.nonzero() is deprecated and will be removed in a future version.Use Series.to_numpy().nonzero() instead\n"
     ]
    },
    {
     "name": "stdout",
     "output_type": "stream",
     "text": [
      "1: \"Hopefully the violence & unrest in Charlotte will come to an immediate end. To those injured, get well soon. We need unity & leadership.\"\n",
      "\n",
      "2: \"Jeb Bush spent more than $40,000,000 in New Hampshire to come in 4 or 5, I spent $3,000,000 to come in 1st. Big difference in capability!\"\n",
      "\n",
      "3: Via @HuffPostPol by @_under_current: “Donald Trump Will End Outsourcing If President” http://www.huffingtonpost.com/lauren-windsor/donald-trump-will-end-outsourcing-if-president_b_7307426.html …\n",
      "\n",
      "4: \"\"\"Donald Trump ready to end @ApprenticeNBC for White House run\"\" http://www.washingtonexaminer.com/donald-trump-ready-to-end-apprentice-for-white-house-run/article/2560839 … via via @dcexaminer by @eScarry\"\n",
      "\n",
      "5: \"Saudis just cut oil supply,making prices rise “immediately” while we are fighting ISIS for them http://www.bloomberg.com/news/2014-10-23/saudi-arabia-said-to-cut-crude-oil-supply-to-market-in-september.html?hootPostID=85412050974d86b20b6b79b103db2107 … What are we doing!\"\n",
      "\n",
      "6: The NFL should have its non-profit status immediately revoked while at the same time ending the giant tax scam which makes teams so valuable\n",
      "\n",
      "7: \"\"\"@CoachJMan: If the majority will bind together and support Trump we will reverse the downward spiral the US is on. http://www.theblaze.com/contributions/why-the-democrats-will-do-and-say-anything-to-stop-donald-trump/ …\"\"\"\n",
      "\n",
      "8: Flashback – Jeb Bush says  illegal immigrants breaking our laws is an “act of love” http://politicalticker.blogs.cnn.com/2014/04/06/jeb-bush-immigration-is-not-a-felony-but-an-act-of-love/ … He will never secure the border.\n",
      "\n",
      "9: The truth continues to come out after 14 years. A truth that many in the media did not want to tell. #Trump2016http://www.breitbart.com/big-journalism/2015/12/01/7-pieces-of-documentation-that-vindicate-trumps-claim-of-911-muslim-celebrations/ …\n",
      "\n",
      "10: Trump’s Campaign Hat Becomes an Ironic Summer Accessory - The New York Times.http://www.nytimes.com/2015/09/13/fashion/trumps-campaign-hat-becomes-an-ironic-summer-accessory.html?ref=fashion&_r=0 …\n",
      "\n",
      "11: \"\"\"CLINTON REFUGEE PLAN COULD BRING IN 620,000 REFUGEES IN FIRST TERM AT LIFETIME COST OF OVER $400 BILLION.\"\" http://www.sessions.senate.gov/public/index.cfm/2016/6/clinton-refugee-plan-could-bring-in-620-000-refugees-in-first-term-at-lifetime-cost-of-over-400-billion …\"\n",
      "\n",
      "12: Via @wbtwnews13 by @elizabethk_wbtw: “Donald Trump will deliver keynote address to the SC Tea Party Convention”http://www.wbtw.com/story/27788502/donald-trump-will-deliver-keynote-address-to-the-south-carolina-tea-party-convention …\n",
      "\n",
      "13: USSS did an excellent job stopping the maniac running to the stage. He has ties to ISIS. Should be in jail! https://amp.twimg.com/v/977860d3-6b1b-4a5f-a81e-67baa6e2e3b1 …?ssr=true\n",
      "\n",
      "14: I had amazing time in Charlotte. Great people & many new friends. I look forward to coming back very soon. Congrats to Gavin & Staff.\n",
      "\n",
      "15: It's Jan. 2. President Obama should end his vacation early & get back to Washington to straighten out the ObamaCare catastrophe--or end it.\n",
      "\n",
      "16: ObamaCare is clearly unconstitutional. Hopefully the USC rules correctly but in the end repealing ObamaCare requires a political solution.\n",
      "\n",
      "17: \"Thank you Kenansville, North Carolina! Remember- on November 8th, that special interest gravy train is coming to a very abrupt end! #MAGApic.twitter.com/DFzuUrWogB\"\n",
      "\n",
      "18: We will have to see what Russia's next move will be. They may have given him an out of an embarrassing situation or drove into deeper mess!\n",
      "\n",
      "19: \"\"\"@rnull65:  I am 72 year old female. You give me hope 1st time in years America can come back..stay the course we need you in 2016!\"\"\"\n",
      "\n",
      "20: \"When we have big disasters, no one comes to our aid or even suggests helping - but we are always expected to come to the aid of others!\"\n",
      "\n",
      "Wall time: 5min 6s\n"
     ]
    }
   ],
   "source": [
    "%%time\n",
    "import numpy as np\n",
    "from numpy.linalg import norm\n",
    "import pandas as pd\n",
    "import nltk\n",
    "nltk.download('punkt')\n",
    "from nltk.stem import PorterStemmer\n",
    "from nltk.tokenize import sent_tokenize, word_tokenize\n",
    "from sklearn.feature_extraction.text import CountVectorizer\n",
    "\n",
    "n_tweets_to_read = 15000 # Choose the number of tweets to read\n",
    "\n",
    "cosine_similarity = lambda a, b: np.inner(a, b) / norm(a) * norm(b) if norm(a) != 0.0 and norm(b) != 0.0 else 0.0\n",
    "\n",
    "def TermDocumentMatrix(docs, docIDs=None):\n",
    "    vectorizer = CountVectorizer(lowercase=True, stop_words=None)\n",
    "    tdm = vectorizer.fit_transform(docs)\n",
    "    tdm_feature_names = vectorizer.get_feature_names()\n",
    "    #\n",
    "    df = pd.DataFrame(tdm.toarray(), columns=tdm_feature_names, dtype=\"float64\")\n",
    "    if docIDs is not None:\n",
    "        df.index = docIDs    \n",
    "    return df\n",
    "\n",
    "#Initialisation\n",
    "ps = PorterStemmer()\n",
    "\n",
    "# Read the data and remove duplicates if exist\n",
    "tweets = []\n",
    "with open(\"data/data.txt\", encoding=\"utf-8\") as file:\n",
    "    for i, line in enumerate(file):\n",
    "        if i < n_tweets_to_read:\n",
    "            tweets.append(line)\n",
    "        else:\n",
    "            break  \n",
    "tweets = list(set(tweets)) # delete duplicates\n",
    "print(\"{} unique Tweets loaded\\n\".format(len(tweets)))\n",
    "\n",
    "# Data Cleanning and prepocesing phase\n",
    "cleanTweet = []\n",
    "tweetIDs = []\n",
    "tweetsProcessed = []\n",
    "for tweet in tweets:\n",
    "    try:\n",
    "        doc = tweet.split(\"\\t\") \n",
    "        if len(doc)==7:\n",
    "            cleanTweet.append(doc[5])\n",
    "            tweetIDs.append(doc[0])     # add ID to a list\n",
    "            doc = doc[5:6]   # remove everything that's note the tweet content      \n",
    "            tok_doc = word_tokenize(\" \".join(doc))    # tokenize remaining document\n",
    "            stemmed_doc = [ps.stem(word) for word in tok_doc] \n",
    "            tweetsProcessed.append(\" \".join(stemmed_doc))   #stemmed words\n",
    "    except:\n",
    "        pass\n",
    "\n",
    "# TF-IDF construction part\n",
    "\n",
    "# Terms frequency\n",
    "tdf = TermDocumentMatrix(tweetsProcessed, tweetIDs)\n",
    "\n",
    "# Document frequency\n",
    "documentFrequencies = []\n",
    "for index, series in tdf.iteritems(): \n",
    "    documentFrequencies.append(len(series.nonzero()[0])) \n",
    "\n",
    "# TF-IDF weight\n",
    "tdf.applymap(lambda x: 1.0 + np.log10(x) if x > 0.0 else 0.0) # log frequency weight\n",
    "idf = pd.Series(np.log10(len(tweets)/np.array(documentFrequencies))) # Inverse document frequency\n",
    "tf_idf = tdf * idf.values\n",
    "\n",
    "def printTopSimilarTweets(tf_idf=tf_idf,tweet='Hello', n=20):\n",
    "\n",
    "    cleanT = tweet.split()   # tokenize remaining document\n",
    "    vec = [ps.stem(word) for word in cleanT] \n",
    "    tf_idf=tf_idf.append(pd.Series(name='TestTweet'))\n",
    "    tf_idf=tf_idf.fillna(0)\n",
    "    for i in vec:\n",
    "        try:\n",
    "            tf_idf.loc['TestTweet', i] += 1\n",
    "        except:\n",
    "            pass\n",
    "    a= tf_idf.loc['TestTweet']\n",
    "    result = tf_idf.apply(lambda row: cosine_similarity(a, row), \n",
    "                          axis='columns').sort_values(ascending=False) \n",
    "    \n",
    "    for i in range(0, n):\n",
    "        try:\n",
    "            print(\"{}: \".format(i+1) + cleanTweet[tweetIDs.index(result.index[i])] + \"\\n\")\n",
    "        except:\n",
    "            pass\n",
    "\n",
    "# output\n",
    "printTopSimilarTweets(tweet=\"Hopefully the violence & unrest in Charlotte will come to an immediate end\")"
   ]
  },
  {
   "cell_type": "code",
   "execution_count": null,
   "metadata": {},
   "outputs": [],
   "source": [
    "%%time\n",
    "printTopSimilarTweets(tweet=\"We will have to see what Russia's next move will be\")"
   ]
  },
  {
   "cell_type": "code",
   "execution_count": null,
   "metadata": {},
   "outputs": [],
   "source": []
  }
 ],
 "metadata": {
  "kernelspec": {
   "display_name": "Python 3",
   "language": "python",
   "name": "python3"
  },
  "language_info": {
   "codemirror_mode": {
    "name": "ipython",
    "version": 3
   },
   "file_extension": ".py",
   "mimetype": "text/x-python",
   "name": "python",
   "nbconvert_exporter": "python",
   "pygments_lexer": "ipython3",
   "version": "3.7.3"
  }
 },
 "nbformat": 4,
 "nbformat_minor": 2
}
