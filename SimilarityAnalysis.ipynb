{
 "cells": [
  {
   "cell_type": "code",
   "execution_count": 2,
   "metadata": {
    "scrolled": true
   },
   "outputs": [
    {
     "name": "stderr",
     "output_type": "stream",
     "text": [
      "[nltk_data] Downloading package punkt to\n",
      "[nltk_data]     C:\\Users\\david\\AppData\\Roaming\\nltk_data...\n",
      "[nltk_data]   Package punkt is already up-to-date!\n"
     ]
    },
    {
     "name": "stdout",
     "output_type": "stream",
     "text": [
      "1494 unique Tweets loaded\n",
      "\n"
     ]
    },
    {
     "name": "stderr",
     "output_type": "stream",
     "text": [
      "C:\\Users\\david\\Anaconda3\\lib\\site-packages\\ipykernel_launcher.py:59: FutureWarning: Series.nonzero() is deprecated and will be removed in a future version.Use Series.to_numpy().nonzero() instead\n"
     ]
    },
    {
     "name": "stdout",
     "output_type": "stream",
     "text": [
      "Wall time: 7.36 s\n"
     ]
    }
   ],
   "source": [
    "%%time\n",
    "import numpy as np\n",
    "from numpy.linalg import norm\n",
    "import pandas as pd\n",
    "import nltk\n",
    "nltk.download('punkt')\n",
    "from nltk.stem import PorterStemmer\n",
    "from nltk.tokenize import sent_tokenize, word_tokenize\n",
    "from sklearn.feature_extraction.text import CountVectorizer\n",
    "\n",
    "n_tweets_to_read = 1500\n",
    "\n",
    "cosine_similarity = lambda a, b: np.inner(a, b) / norm(a) * norm(b) if norm(a) != 0.0 and norm(b) != 0.0 else 0.0\n",
    "\n",
    "def TermDocumentMatrix(docs, docIDs=None):\n",
    "    vectorizer = CountVectorizer(lowercase=True, stop_words=None)\n",
    "    tdm = vectorizer.fit_transform(docs)\n",
    "    tdm_feature_names = vectorizer.get_feature_names()\n",
    "    #\n",
    "    df = pd.DataFrame(tdm.toarray(), columns=tdm_feature_names, dtype=\"float64\")\n",
    "    if docIDs is not None:\n",
    "        df.index = docIDs    \n",
    "    return df\n",
    "\n",
    "\n",
    "ps = PorterStemmer()\n",
    "\n",
    "\n",
    "tweets = []\n",
    "with open(\"data/data.txt\", encoding=\"utf-8\") as file:\n",
    "    for i, line in enumerate(file):\n",
    "        if i < n_tweets_to_read:\n",
    "            tweets.append(line)\n",
    "        else:\n",
    "            break  \n",
    "tweets = list(set(tweets)) \n",
    "print(\"{} unique Tweets loaded\\n\".format(len(tweets)))\n",
    "\n",
    "\n",
    "cleanTweet = []\n",
    "tweetIDs = []\n",
    "tweetsProcessed = []\n",
    "for tweet in tweets:\n",
    "    try:\n",
    "        doc = tweet.split(\"\\t\") \n",
    "        if len(doc)==7:\n",
    "            cleanTweet.append(doc[5])\n",
    "            tweetIDs.append(doc[0])     \n",
    "            doc = doc[5:6]        \n",
    "            tok_doc = word_tokenize(\" \".join(doc))    \n",
    "            stemmed_doc = [ps.stem(word) for word in tok_doc] \n",
    "            tweetsProcessed.append(\" \".join(stemmed_doc))   \n",
    "    except:\n",
    "        pass\n",
    "\n",
    "tdf = TermDocumentMatrix(tweetsProcessed, tweetIDs)\n",
    "\n",
    "documentFrequencies = []\n",
    "for index, series in tdf.iteritems(): \n",
    "    documentFrequencies.append(len(series.nonzero()[0])) \n",
    "\n",
    "tdf.applymap(lambda x: 1.0 + np.log10(x) if x > 0.0 else 0.0)\n",
    "idf = pd.Series(np.log10(len(tweets)/np.array(documentFrequencies))) \n",
    "tf_idf = tdf * idf.values"
   ]
  },
  {
   "cell_type": "code",
   "execution_count": null,
   "metadata": {},
   "outputs": [],
   "source": []
  }
 ],
 "metadata": {
  "kernelspec": {
   "display_name": "Python 3",
   "language": "python",
   "name": "python3"
  },
  "language_info": {
   "codemirror_mode": {
    "name": "ipython",
    "version": 3
   },
   "file_extension": ".py",
   "mimetype": "text/x-python",
   "name": "python",
   "nbconvert_exporter": "python",
   "pygments_lexer": "ipython3",
   "version": "3.7.3"
  }
 },
 "nbformat": 4,
 "nbformat_minor": 2
}
